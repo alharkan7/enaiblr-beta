{
 "cells": [
  {
   "cell_type": "code",
   "execution_count": 36,
   "metadata": {},
   "outputs": [],
   "source": [
    "import { DOMParser } from \"https://deno.land/x/deno_dom/deno-dom-wasm.ts\";\n"
   ]
  },
  {
   "cell_type": "code",
   "execution_count": 41,
   "metadata": {},
   "outputs": [],
   "source": [
    "async function searchExa(query) {\n",
    "  try {\n",
    "    const response = await fetch(`https://exa.ai/search?q=${encodeURIComponent(query)}`, {\n",
    "      headers: {\n",
    "        'User-Agent': 'Mozilla/5.0 (Windows NT 10.0; Win64; x64) AppleWebKit/537.36 (KHTML, like Gecko) Chrome/118.0.0.0 Safari/537.36',\n",
    "        'Accept': 'text/html,application/xhtml+xml,application/xml;q=0.9,image/webp,*/*;q=0.8',\n",
    "        'Accept-Language': 'en-US,en;q=0.9'\n",
    "      }\n",
    "    });\n",
    "    \n",
    "    const text = await response.text();\n",
    "    console.log('Response:', text.slice(0, 500));\n",
    "    \n",
    "    return text;\n",
    "  } catch (error) {\n",
    "    console.error('Error:', error);\n",
    "    throw error;\n",
    "  }\n",
    "}"
   ]
  },
  {
   "cell_type": "code",
   "execution_count": 42,
   "metadata": {},
   "outputs": [
    {
     "name": "stdout",
     "output_type": "stream",
     "text": [
      "Response: <!DOCTYPE html><html lang=\"en\" data-sentry-component=\"RootLayout\" data-sentry-source-file=\"layout.tsx\"><head><meta charSet=\"utf-8\"/><meta name=\"viewport\" content=\"width=device-width, initial-scale=1\"/><link rel=\"stylesheet\" href=\"/search/_next/static/css/4778505653664fb8.css\" data-precedence=\"next\"/><link rel=\"stylesheet\" href=\"/search/_next/static/css/578e29fcd2abc32c.css\" data-precedence=\"next\"/><link rel=\"preload\" as=\"script\" fetchPriority=\"low\" href=\"/search/_next/static/chunks/webpack-53a37\n"
     ]
    },
    {
     "data": {
      "text/plain": [
       "\u001b[32m'<!DOCTYPE html><html lang=\"en\" data-sentry-component=\"RootLayout\" data-sentry-source-file=\"layout.tsx\"><head><meta charSet=\"utf-8\"/><meta name=\"viewport\" content=\"width=device-width, initial-scale=1\"/><link rel=\"stylesheet\" href=\"/search/_next/static/css/4778505653664fb8.css\" data-precedence=\"next\"/><link rel=\"stylesheet\" href=\"/search/_next/static/css/578e29fcd2abc32c.css\" data-precedence=\"next\"/><link rel=\"preload\" as=\"script\" fetchPriority=\"low\" href=\"/search/_next/static/chunks/webpack-53a371a806704ab7.js\"/><script src=\"/search/_next/static/chunks/59c6eb5a-6a9cf2cea5f36bcb.js\" async=\"\"></script><script src=\"/search/_next/static/chunks/fd9d1056-0517c5d5053533ad.js\" async=\"\"></script><script src=\"/search/_next/static/chunks/745-35f8477051b047be.js\" async=\"\"></script><script src=\"/search/_next/static/chunks/main-app-7765046397910176.js\" async=\"\"></script><script src=\"/search/_next/static/chunks/cd24890f-de3c5b08e98b6608.js\" async=\"\"></script><script src=\"/search/_next/static/chunks/app/layout-7fed9f50ab02617b.js\" async=\"\"></script><script src=\"/search/_next/static/chunks/app/global-error-d4de68919df8b9bf.js\" async=\"\"></script><script src=\"/search/_next/static/chunks/aaea2bcf-854923515ff2da55.js\" async=\"\"></script><script src=\"/search/_next/static/chunks/192-b4c6569ebb19ad82.js\" async=\"\"></script><script src=\"/search/_next/static/chunks/767-124eb51cd4a392fc.js\" async=\"\"></script><script src=\"/search/_next/static/chunks/614-148fdcd8eae355d8.js\" async=\"\"></script><script src=\"/search/_next/static/chunks/app/page-f7fb47422380dd4a.js\" async=\"\"></script><link rel=\"preload\" href=\"https://www.googletagmanager.com/gtag/js?id=AW-16696812396\" as=\"script\"/><link rel=\"search\" type=\"application/opensearchdescription+xml\" href=\"/search/opensearch.xml\" title=\"Exa Search\"/><title>AI Tools for Graphic Design - Exa Search</title><meta name=\"description\" content=\"Find exactly what you are looking for\"/><meta name=\"application-name\" content=\"Exa\"/><link rel=\"author\" href=\"https://exa.ai\"/><meta name=\"author\" content=\"Exa Labs\"/><meta name=\"keywords\" content=\"metaphor,exa,api,search,ai,llms\"/><meta name=\"referrer\" content=\"origin-when-cross-origin\"/><meta property=\"og:title\" content=\"AI Tools for Graphic Design - Exa Search\"/><meta property=\"og:description\" content=\"Find exactly what you are looking for\"/><meta property=\"og:url\" content=\"https://exa.ai\"/><meta property=\"og:site_name\" content=\"Exa Search\"/><meta property=\"og:image\" content=\"https://exa.imgix.net/og-image.png/\"/><meta property=\"og:type\" content=\"website\"/><meta name=\"twitter:card\" content=\"summary_large_image\"/><meta name=\"twitter:site\" content=\"@ExaAILabs\"/><meta name=\"twitter:creator\" content=\"@ExaAILabs\"/><meta name=\"twitter:title\" content=\"AI Tools for Graphic Design - Exa Search\"/><meta name=\"twitter:description\" content=\"Find exactly what you are looking for\"/><meta name=\"twitter:image\" content=\"https://exa.imgix.net/og-image.png/\"/><link rel=\"icon\" href=\"/search/images/favicon-32x32.png\"/><script src=\"/search/_next/static/chunks/polyfills-78c92fac7aa8fdd8.js\" noModule=\"\"></script><style data-styled=\"\" data-styled-version=\"6.1.12\">.gsHLNz{align-items:center;background:var(--brand-default,#1f40ed);border:2px solid var(--brand-default,#1f40ed);color:var(--white,#fff);display:flex;font-family:var(--font-family-monospace);font-size:16px;font-style:normal;font-weight:400;gap:10px;min-height:36px;justify-content:center;line-height:21px;min-width:120px;padding:var(--space-2) var(--space-4);text-transform:uppercase;transition:all 0.1s ease-in-out;border-radius:var(--border-radius-default);}/*!sc*/\\n'\u001b[39m +\n",
       "  \u001b[32m\".gsHLNz:hover{background-color:var(--black,#000);color:var(--white,#fff);cursor:pointer;border:2px solid var(--black,#000);}/*!sc*/\\n\"\u001b[39m +\n",
       "  \u001b[32m\"@media (max-width: 1023px){.gsHLNz{font-size:16px;line-height:24px;min-width:44px;}}/*!sc*/\\n\"\u001b[39m +\n",
       "  \u001b[32m'data-styled.g1[id=\"Button-sc-b29d9da9-0\"]{content:\"gsHLNz,\"}/*!sc*/\\n'\u001b[39m +\n",
       "  \u001b[32m\".iFnoeD{color:var(--brand-default,#1f40ed);border:1px solid var(--brand-default,#1f40ed);background:var(--white,#fff);display:flex;padding:var(--space-3,12px);gap:var(--space-3,12px);}/*!sc*/\\n\"\u001b[39m +\n",
       "  \u001b[32m\".iFnoeD:hover{border:1px solid var(--black);background:var(--black);color:var(--white);}/*!sc*/\\n\"\u001b[39m +\n",
       "  \u001b[32m'data-styled.g2[id=\"Button-sc-b29d9da9-1\"]{content:\"iFnoeD,\"}/*!sc*/\\n'\u001b[39m +\n",
       "  \u001b[32m\".sfXWP{background:#e7ebfd;font-size:14px;align-items:flex-start;padding-top:8px;padding-bottom:8px;}/*!sc*/\\n\"\u001b[39m +\n",
       "  \u001b[32m\".sfXWP:hover{background:var(--secondary-faint);color:var(--brand-default,#1f40ed);border:1px solid var(--brand-default);}/*!sc*/\\n\"\u001b[39m +\n",
       "  \u001b[32m'data-styled.g3[id=\"Button-sc-b29d9da9-2\"]{content:\"sfXWP,\"}/*!sc*/\\n'\u001b[39m +\n",
       "  \u001b[32m\".dfOmlB{border:none;background:none;text-transform:none;color:var(--text-light-default);padding:0;min-width:0;transform:none;}/*!sc*/\\n\"\u001b[39m +\n",
       "  \u001b[32m\".dfOmlB:hover{border:none;background:var(--secondary-darkest);transform:unset;color:inherit;}/*!sc*/\\n\"\u001b[39m +\n",
       "  \u001b[32m'data-styled.g4[id=\"Button-sc-b29d9da9-3\"]{content:\"dfOmlB,\"}/*!sc*/\\n'\u001b[39m +\n",
       "  \u001b[32m\".jGdTOs{align-self:unset;margin:0;max-width:unset;text-align:left;font-family:var(--font-family-sans, sans-serif);font-style:normal;font-weight:400;font-size:12px;line-height:16px;}/*!sc*/\\n\"\u001b[39m +\n",
       "  \u001b[32m'data-styled.g5[id=\"Text__Xs-sc-97ee226c-0\"]{content:\"jGdTOs,\"}/*!sc*/\\n'\u001b[39m +\n",
       "  \u001b[32m\".czIiQU{align-self:unset;margin:0;max-width:unset;text-align:left;font-family:var(--font-family-sans, sans-serif);font-style:normal;font-weight:400;font-size:14px;line-height:20px;}/*!sc*/\\n\"\u001b[39m +\n",
       "  \u001b[32m'data-styled.g6[id=\"Text__Sm-sc-97ee226c-1\"]{content:\"czIiQU,\"}/*!sc*/\\n'\u001b[39m +\n",
       "  \u001b[32m\".glKUGE{align-self:unset;margin:0;max-width:unset;text-align:left;font-family:var(--font-family-sans, sans-serif);font-style:normal;font-weight:400;font-size:16px;line-height:24px;}/*!sc*/\\n\"\u001b[39m +\n",
       "  \u001b[32m'data-styled.g7[id=\"Text__Base-sc-97ee226c-2\"]{content:\"glKUGE,\"}/*!sc*/\\n'\u001b[39m +\n",
       "  \u001b[32m\".wcQrp{align-self:unset;margin:0;max-width:unset;text-align:left;font-family:var(--font-family-sans, sans-serif);font-style:normal;font-weight:400;font-size:18px;line-height:28px;}/*!sc*/\\n\"\u001b[39m +\n",
       "  \u001b[32m'data-styled.g8[id=\"Text__Md-sc-97ee226c-3\"]{content:\"wcQrp,\"}/*!sc*/\\n'\u001b[39m +\n",
       "  \u001b[32m\".iZjVtC{display:flex;}/*!sc*/\\n\"\u001b[39m +\n",
       "  \u001b[32m\"@media (max-width: 1023px){.iZjVtC{display:none;}}/*!sc*/\\n\"\u001b[39m +\n",
       "  \u001b[32m'data-styled.g27[id=\"Responsive__Desktop-sc-e281732d-0\"]{content:\"iZjVtC,\"}/*!sc*/\\n'\u001b[39m +\n",
       "  \u001b[32m\".dGRamJ{display:none;}/*!sc*/\\n\"\u001b[39m +\n",
       "  \u001b[32m\"@media (max-width: 1023px){.dGRamJ{display:flex;}}/*!sc*/\\n\"\u001b[39m +\n",
       "  \u001b[32m'data-styled.g28[id=\"Responsive__Tablet-sc-e281732d-1\"]{content:\"dGRamJ,\"}/*!sc*/\\n'\u001b[39m +\n",
       "  \u001b[32m\".ilrnSR{display:flex;flex-direction:row;align-items:center;flex:1;min-width:0;}/*!sc*/\\n\"\u001b[39m +\n",
       "  \u001b[32m'data-styled.g31[id=\"Datepicker__InputContainer-sc-e648c649-0\"]{content:\"ilrnSR,\"}/*!sc*/\\n'\u001b[39m +\n",
       "  \u001b[32m\".kRMkwK{background:none;outline:none;border:none;flex:1;min-width:0;font-family:var(--font-family-sans);font-size:14px;font-style:normal;font-weight:400;line-height:20px;}/*!sc*/\\n\"\u001b[39m +\n",
       "  \u001b[32m\".kRMkwK:focus{outline:none;box-shadow:none;}/*!sc*/\\n\"\u001b[39m +\n",
       "  \u001b[32m'data-styled.g32[id=\"Datepicker__InputStyled-sc-e648c649-1\"]{content:\"kRMkwK,\"}/*!sc*/\\n'\u001b[39m +\n",
       "  \u001b[32m\".hexhkJ{display:flex;flex:1 1 0;}/*!sc*/\\n\"\u001b[39m +\n",
       "  \u001b[32m'data-styled.g33[id=\"utils__FlexSpan-sc-17b015cb-0\"]{content:\"hexhkJ,\"}/*!sc*/\\n'\u001b[39m +\n",
       "  \u001b[32m\".iPMxYR{display:flex;flex-direction:column;list-style-type:none;gap:8px;position:relative;width:100%;}/*!sc*/\\n\"\u001b[39m +\n",
       "  \u001b[32m\"@media (max-width: 1023px){.iPMxYR{gap:0px;max-height:180px;flex-wrap:wrap;overflow-x:scroll;scrollbar-width:none;-ms-overflow-style:none;}.iPMxYR::-webkit-scrollbar{width:0;height:0;}}/*!sc*/\\n\"\u001b[39m +\n",
       "  \u001b[32m\".iPMzHh{display:flex;flex-direction:column;list-style-type:none;gap:8px;position:relative;width:100%;}/*!sc*/\\n\"\u001b[39m +\n",
       "  \u001b[32m\"@media (max-width: 1023px){.iPMzHh{gap:0px;max-height:144px;flex-wrap:wrap;overflow-x:scroll;scrollbar-width:none;-ms-overflow-style:none;}.iPMzHh::-webkit-scrollbar{width:0;height:0;}}/*!sc*/\\n\"\u001b[39m +\n",
       "  \u001b[32m\".XyCdJ{display:flex;flex-direction:column;list-style-type:none;gap:8px;position:relative;width:100%;}/*!sc*/\\n\"\u001b[39m +\n",
       "  \u001b[32m\"@media (max-width: 1023px){.XyCdJ{gap:0px;max-height:72px;flex-wrap:wrap;overflow-x:scroll;scrollbar-width:none;-ms-overflow-style:none;}.XyCdJ::-webkit-scrollbar{width:0;height:0;}}/*!sc*/\\n\"\u001b[39m +\n",
       "  \u001b[32m'data-styled.g35[id=\"FilterGroup-sc-8bdc12d-0\"]{content:\"iPMxYR,iPMzHh,XyCdJ,\"}/*!sc*/\\n'\u001b[39m +\n",
       "  \u001b[32m\".cfmfbF:hover{cursor:pointer!important;}/*!sc*/\\n\"\u001b[39m +\n",
       "  \u001b[32m'data-styled.g36[id=\"FilterGroup-sc-8bdc12d-1\"]{content:\"cfmfbF,\"}/*!sc*/\\n'\u001b[39m +\n",
       "  \u001b[32m\".fLDyIU{position:relative;display:flex;flex-shrink:0;white-space:nowrap;align-items:center;gap:8px;font-family:var(--font-family-sans);font-size:14px;font-style:normal;font-weight:400;line-height:20px;cursor:pointer;color:var(--gray-600);color:var(--brand-default);font-weight:500;}/*!sc*/\\n\"\u001b[39m +\n",
       "  \u001b[32m\"undefined .fLDyIU:hover{text-decoration:underline;}/*!sc*/\\n\"\u001b[39m +\n",
       "  \u001b[32m\"@media (max-width: 1023px){.fLDyIU{padding:8px 0;}}/*!sc*/\\n\"\u001b[39m +\n",
       "  \u001b[32m\".jpNTA{position:relative;display:flex;flex-shrink:0;white-space:nowrap;align-items:center;gap:8px;font-family:var(--font-family-sans);font-size:14px;font-style:normal;font-weight:400;line-height:20px;cursor:pointer;color:var(--gray-600);}/*!sc*/\\n\"\u001b[39m +\n",
       "  \u001b[32m\"false undefined .jpNTA:hover{text-decoration:underline;}/*!sc*/\\n\"\u001b[39m +\n",
       "  \u001b[32m\"@media (max-width: 1023px){.jpNTA{padding:8px 0;}}/*!sc*/\\n\"\u001b[39m +\n",
       "  \u001b[32m'data-styled.g37[id=\"FilterGroup-sc-8bdc12d-2\"]{content:\"fLDyIU,jpNTA,\"}/*!sc*/\\n'\u001b[39m +\n",
       "  \u001b[32m\".jVoCYh{position:relative;display:flex;flex-shrink:0;white-space:nowrap;align-items:center;gap:8px;font-family:var(--font-family-sans);font-size:14px;font-style:normal;font-weight:400;line-height:20px;cursor:pointer;color:var(--gray-600);padding-left:8px;}/*!sc*/\\n\"\u001b[39m +\n",
       "  \u001b[32m\"false undefined .jVoCYh:hover{text-decoration:underline;}/*!sc*/\\n\"\u001b[39m +\n",
       "  \u001b[32m\"@media (max-width: 1023px){.jVoCYh{padding:8px 0;}}/*!sc*/\\n\"\u001b[39m +\n",
       "  \u001b[32m\"@media (max-width: 1023px){.jVoCYh{padding-left:8px;}}/*!sc*/\\n\"\u001b[39m +\n",
       "  \u001b[32m'data-styled.g38[id=\"FilterGroup-sc-8bdc12d-3\"]{content:\"jVoCYh,\"}/*!sc*/\\n'\u001b[39m +\n",
       "  \u001b[32m\".jyCAGC{background:none;border:none;outline:none;color:var(--gray-600);font-family:var(--font-family-sans);font-size:14px;font-style:normal;font-weight:400;line-height:20px;}/*!sc*/\\n\"\u001b[39m +\n",
       "  \u001b[32m'data-styled.g39[id=\"FilterGroup-sc-8bdc12d-4\"]{content:\"jyCAGC,\"}/*!sc*/\\n'\u001b[39m +\n",
       "  \u001b[32m\".icTNpE{appearance:none;}/*!sc*/\\n\"\u001b[39m +\n",
       "  \u001b[32m'data-styled.g41[id=\"FilterGroup-sc-8bdc12d-6\"]{content:\"icTNpE,\"}/*!sc*/\\n'\u001b[39m +\n",
       "  \u001b[32m\".obiHE{display:flex;flex-direction:column;gap:8px;user-select:none;}/*!sc*/\\n\"\u001b[39m +\n",
       "  \u001b[32m'data-styled.g42[id=\"FilterGroup-sc-8bdc12d-7\"]{content:\"obiHE,\"}/*!sc*/\\n'\u001b[39m +\n",
       "  \u001b[32m\".lcKYXc{font-family:var(--font-family-sans);color:var(--text-light-subtle);font-size:14px;font-style:normal;font-weight:500;line-height:20px;list-style:n\"\u001b[39m... 131399 more characters"
      ]
     },
     "execution_count": 42,
     "metadata": {},
     "output_type": "execute_result"
    }
   ],
   "source": [
    "// Test it\n",
    "await searchExa(\"AI Tools for Graphic Design\");"
   ]
  }
 ],
 "metadata": {
  "kernelspec": {
   "display_name": "Deno",
   "language": "typescript",
   "name": "deno"
  },
  "language_info": {
   "codemirror_mode": "typescript",
   "file_extension": ".ts",
   "mimetype": "text/x.typescript",
   "name": "typescript",
   "nbconvert_exporter": "script",
   "pygments_lexer": "typescript",
   "version": "5.6.2"
  }
 },
 "nbformat": 4,
 "nbformat_minor": 2
}
